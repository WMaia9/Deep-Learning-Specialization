{
  "cells": [
    {
      "cell_type": "markdown",
      "metadata": {
        "id": "view-in-github",
        "colab_type": "text"
      },
      "source": [
        "<a href=\"https://colab.research.google.com/github/WMaia9/Deep-Learning-Specialization/blob/main/EDA_produtos.ipynb\" target=\"_parent\"><img src=\"https://colab.research.google.com/assets/colab-badge.svg\" alt=\"Open In Colab\"/></a>"
      ]
    },
    {
      "cell_type": "markdown",
      "id": "58e196e8-7e17-4e39-a37f-a5b8b4b73c86",
      "metadata": {
        "id": "58e196e8-7e17-4e39-a37f-a5b8b4b73c86"
      },
      "source": [
        "# Imports"
      ]
    },
    {
      "cell_type": "code",
      "execution_count": null,
      "id": "f5690fce-6b8f-4ffe-808c-3eb366ed0d32",
      "metadata": {
        "id": "f5690fce-6b8f-4ffe-808c-3eb366ed0d32",
        "colab": {
          "base_uri": "https://localhost:8080/"
        },
        "outputId": "cf3d9f35-29c6-4959-e294-c2b4ba9e41d5"
      },
      "outputs": [
        {
          "output_type": "stream",
          "name": "stdout",
          "text": [
            "Drive already mounted at /content/drive; to attempt to forcibly remount, call drive.mount(\"/content/drive\", force_remount=True).\n"
          ]
        }
      ],
      "source": [
        "from google.colab import drive\n",
        "drive.mount('/content/drive')\n",
        "\n",
        "# Autenticação é necessária para clonar\n",
        "from google.colab import auth, output, files\n",
        "import os\n",
        "auth.authenticate_user()\n",
        "\n",
        "import pandas as pd\n",
        "import numpy as np\n",
        "\n",
        "from matplotlib import pyplot as plt\n",
        "plt.style.use('ggplot')\n",
        "%matplotlib inline\n",
        "plt.rcParams.update({\n",
        "    'figure.figsize': (16,8)})\n",
        "\n",
        "\n",
        "import seaborn as sns\n",
        "\n",
        "output.clear()"
      ]
    },
    {
      "cell_type": "code",
      "source": [],
      "metadata": {
        "id": "cYmA_OfV6bsp"
      },
      "id": "cYmA_OfV6bsp",
      "execution_count": null,
      "outputs": []
    },
    {
      "cell_type": "markdown",
      "id": "3868a83c-ca25-462c-9958-4389b0605bc5",
      "metadata": {
        "id": "3868a83c-ca25-462c-9958-4389b0605bc5"
      },
      "source": [
        "# EDA"
      ]
    },
    {
      "cell_type": "code",
      "execution_count": null,
      "id": "ebd82d92-481b-4e3a-9a21-d0012c31ae12",
      "metadata": {
        "id": "ebd82d92-481b-4e3a-9a21-d0012c31ae12"
      },
      "outputs": [],
      "source": [
        "path = \"/content/drive/Shareddrives/MAI5003/EDA/dataset_produtos.xlsx\"\n",
        "df = pd.read_excel(path)"
      ]
    },
    {
      "cell_type": "code",
      "execution_count": null,
      "id": "db1f2bbc-e562-483f-88da-657d8a26badf",
      "metadata": {
        "id": "db1f2bbc-e562-483f-88da-657d8a26badf",
        "outputId": "15120a8a-f50e-43c4-83f7-549da03d072b",
        "colab": {
          "base_uri": "https://localhost:8080/",
          "height": 206
        }
      },
      "outputs": [
        {
          "output_type": "execute_result",
          "data": {
            "text/plain": [
              "                               nm_item           segmento  \\\n",
              "0           APRESUNTADO REZENDE PEC KG  1-BENS DE CONSUMO   \n",
              "1              CARNE SUIN ESPINHACO KG  1-BENS DE CONSUMO   \n",
              "2           WHISKY WHITE 1LHORSE TRAD.  1-BENS DE CONSUMO   \n",
              "3  WHISKY JOHNN WALKER 1L UNRED LABEL.  1-BENS DE CONSUMO   \n",
              "4      LTE COND MOCASEMI DESN TP 395G.  1-BENS DE CONSUMO   \n",
              "\n",
              "                categoria         subcategoria        nm_product  \n",
              "0    3-FRIOS E LATICINIOS          6-EMBUTIDOS       APRESUNTADO  \n",
              "1    1-ACOUGUE E PEIXARIA            1-ACOUGUE       CARNE SUINA  \n",
              "2  18-BEBIDAS ALCOOLICAS         56-DESTILADOS            WHISKY  \n",
              "3  18-BEBIDAS ALCOOLICAS         56-DESTILADOS            WHISKY  \n",
              "4             6-MERCEARIA  22-MERCEARIA LACTEA  LEITE CONDENSADO  "
            ],
            "text/html": [
              "\n",
              "  <div id=\"df-e666e2d9-07c8-4089-8967-ebcbd186bf49\">\n",
              "    <div class=\"colab-df-container\">\n",
              "      <div>\n",
              "<style scoped>\n",
              "    .dataframe tbody tr th:only-of-type {\n",
              "        vertical-align: middle;\n",
              "    }\n",
              "\n",
              "    .dataframe tbody tr th {\n",
              "        vertical-align: top;\n",
              "    }\n",
              "\n",
              "    .dataframe thead th {\n",
              "        text-align: right;\n",
              "    }\n",
              "</style>\n",
              "<table border=\"1\" class=\"dataframe\">\n",
              "  <thead>\n",
              "    <tr style=\"text-align: right;\">\n",
              "      <th></th>\n",
              "      <th>nm_item</th>\n",
              "      <th>segmento</th>\n",
              "      <th>categoria</th>\n",
              "      <th>subcategoria</th>\n",
              "      <th>nm_product</th>\n",
              "    </tr>\n",
              "  </thead>\n",
              "  <tbody>\n",
              "    <tr>\n",
              "      <th>0</th>\n",
              "      <td>APRESUNTADO REZENDE PEC KG</td>\n",
              "      <td>1-BENS DE CONSUMO</td>\n",
              "      <td>3-FRIOS E LATICINIOS</td>\n",
              "      <td>6-EMBUTIDOS</td>\n",
              "      <td>APRESUNTADO</td>\n",
              "    </tr>\n",
              "    <tr>\n",
              "      <th>1</th>\n",
              "      <td>CARNE SUIN ESPINHACO KG</td>\n",
              "      <td>1-BENS DE CONSUMO</td>\n",
              "      <td>1-ACOUGUE E PEIXARIA</td>\n",
              "      <td>1-ACOUGUE</td>\n",
              "      <td>CARNE SUINA</td>\n",
              "    </tr>\n",
              "    <tr>\n",
              "      <th>2</th>\n",
              "      <td>WHISKY WHITE 1LHORSE TRAD.</td>\n",
              "      <td>1-BENS DE CONSUMO</td>\n",
              "      <td>18-BEBIDAS ALCOOLICAS</td>\n",
              "      <td>56-DESTILADOS</td>\n",
              "      <td>WHISKY</td>\n",
              "    </tr>\n",
              "    <tr>\n",
              "      <th>3</th>\n",
              "      <td>WHISKY JOHNN WALKER 1L UNRED LABEL.</td>\n",
              "      <td>1-BENS DE CONSUMO</td>\n",
              "      <td>18-BEBIDAS ALCOOLICAS</td>\n",
              "      <td>56-DESTILADOS</td>\n",
              "      <td>WHISKY</td>\n",
              "    </tr>\n",
              "    <tr>\n",
              "      <th>4</th>\n",
              "      <td>LTE COND MOCASEMI DESN TP 395G.</td>\n",
              "      <td>1-BENS DE CONSUMO</td>\n",
              "      <td>6-MERCEARIA</td>\n",
              "      <td>22-MERCEARIA LACTEA</td>\n",
              "      <td>LEITE CONDENSADO</td>\n",
              "    </tr>\n",
              "  </tbody>\n",
              "</table>\n",
              "</div>\n",
              "      <button class=\"colab-df-convert\" onclick=\"convertToInteractive('df-e666e2d9-07c8-4089-8967-ebcbd186bf49')\"\n",
              "              title=\"Convert this dataframe to an interactive table.\"\n",
              "              style=\"display:none;\">\n",
              "        \n",
              "  <svg xmlns=\"http://www.w3.org/2000/svg\" height=\"24px\"viewBox=\"0 0 24 24\"\n",
              "       width=\"24px\">\n",
              "    <path d=\"M0 0h24v24H0V0z\" fill=\"none\"/>\n",
              "    <path d=\"M18.56 5.44l.94 2.06.94-2.06 2.06-.94-2.06-.94-.94-2.06-.94 2.06-2.06.94zm-11 1L8.5 8.5l.94-2.06 2.06-.94-2.06-.94L8.5 2.5l-.94 2.06-2.06.94zm10 10l.94 2.06.94-2.06 2.06-.94-2.06-.94-.94-2.06-.94 2.06-2.06.94z\"/><path d=\"M17.41 7.96l-1.37-1.37c-.4-.4-.92-.59-1.43-.59-.52 0-1.04.2-1.43.59L10.3 9.45l-7.72 7.72c-.78.78-.78 2.05 0 2.83L4 21.41c.39.39.9.59 1.41.59.51 0 1.02-.2 1.41-.59l7.78-7.78 2.81-2.81c.8-.78.8-2.07 0-2.86zM5.41 20L4 18.59l7.72-7.72 1.47 1.35L5.41 20z\"/>\n",
              "  </svg>\n",
              "      </button>\n",
              "      \n",
              "  <style>\n",
              "    .colab-df-container {\n",
              "      display:flex;\n",
              "      flex-wrap:wrap;\n",
              "      gap: 12px;\n",
              "    }\n",
              "\n",
              "    .colab-df-convert {\n",
              "      background-color: #E8F0FE;\n",
              "      border: none;\n",
              "      border-radius: 50%;\n",
              "      cursor: pointer;\n",
              "      display: none;\n",
              "      fill: #1967D2;\n",
              "      height: 32px;\n",
              "      padding: 0 0 0 0;\n",
              "      width: 32px;\n",
              "    }\n",
              "\n",
              "    .colab-df-convert:hover {\n",
              "      background-color: #E2EBFA;\n",
              "      box-shadow: 0px 1px 2px rgba(60, 64, 67, 0.3), 0px 1px 3px 1px rgba(60, 64, 67, 0.15);\n",
              "      fill: #174EA6;\n",
              "    }\n",
              "\n",
              "    [theme=dark] .colab-df-convert {\n",
              "      background-color: #3B4455;\n",
              "      fill: #D2E3FC;\n",
              "    }\n",
              "\n",
              "    [theme=dark] .colab-df-convert:hover {\n",
              "      background-color: #434B5C;\n",
              "      box-shadow: 0px 1px 3px 1px rgba(0, 0, 0, 0.15);\n",
              "      filter: drop-shadow(0px 1px 2px rgba(0, 0, 0, 0.3));\n",
              "      fill: #FFFFFF;\n",
              "    }\n",
              "  </style>\n",
              "\n",
              "      <script>\n",
              "        const buttonEl =\n",
              "          document.querySelector('#df-e666e2d9-07c8-4089-8967-ebcbd186bf49 button.colab-df-convert');\n",
              "        buttonEl.style.display =\n",
              "          google.colab.kernel.accessAllowed ? 'block' : 'none';\n",
              "\n",
              "        async function convertToInteractive(key) {\n",
              "          const element = document.querySelector('#df-e666e2d9-07c8-4089-8967-ebcbd186bf49');\n",
              "          const dataTable =\n",
              "            await google.colab.kernel.invokeFunction('convertToInteractive',\n",
              "                                                     [key], {});\n",
              "          if (!dataTable) return;\n",
              "\n",
              "          const docLinkHtml = 'Like what you see? Visit the ' +\n",
              "            '<a target=\"_blank\" href=https://colab.research.google.com/notebooks/data_table.ipynb>data table notebook</a>'\n",
              "            + ' to learn more about interactive tables.';\n",
              "          element.innerHTML = '';\n",
              "          dataTable['output_type'] = 'display_data';\n",
              "          await google.colab.output.renderOutput(dataTable, element);\n",
              "          const docLink = document.createElement('div');\n",
              "          docLink.innerHTML = docLinkHtml;\n",
              "          element.appendChild(docLink);\n",
              "        }\n",
              "      </script>\n",
              "    </div>\n",
              "  </div>\n",
              "  "
            ]
          },
          "metadata": {},
          "execution_count": 3
        }
      ],
      "source": [
        "df.head()"
      ]
    },
    {
      "cell_type": "code",
      "execution_count": null,
      "id": "22107545-e69a-4ad1-ba76-0a56b680fe3c",
      "metadata": {
        "id": "22107545-e69a-4ad1-ba76-0a56b680fe3c",
        "outputId": "9b5b426e-46e0-4c07-892f-dd8214935c94",
        "colab": {
          "base_uri": "https://localhost:8080/"
        }
      },
      "outputs": [
        {
          "output_type": "execute_result",
          "data": {
            "text/plain": [
              "nm_item         0.0\n",
              "segmento        0.0\n",
              "categoria       0.0\n",
              "subcategoria    0.0\n",
              "nm_product      0.0\n",
              "dtype: float64"
            ]
          },
          "metadata": {},
          "execution_count": 4
        }
      ],
      "source": [
        "df.isna().mean()"
      ]
    },
    {
      "cell_type": "code",
      "execution_count": null,
      "id": "b1d6f801-f6e3-47f4-9519-1e181f521e65",
      "metadata": {
        "id": "b1d6f801-f6e3-47f4-9519-1e181f521e65"
      },
      "outputs": [],
      "source": [
        "df = df.dropna()"
      ]
    },
    {
      "cell_type": "code",
      "execution_count": null,
      "id": "bf133e8c-9e20-48b3-8fb9-5892f81c0fbe",
      "metadata": {
        "id": "bf133e8c-9e20-48b3-8fb9-5892f81c0fbe",
        "outputId": "bcc8857c-0a2a-43ec-bae7-ddf6e66e7a74",
        "colab": {
          "base_uri": "https://localhost:8080/"
        }
      },
      "outputs": [
        {
          "output_type": "execute_result",
          "data": {
            "text/plain": [
              "nm_item         0.0\n",
              "segmento        0.0\n",
              "categoria       0.0\n",
              "subcategoria    0.0\n",
              "nm_product      0.0\n",
              "dtype: float64"
            ]
          },
          "metadata": {},
          "execution_count": 6
        }
      ],
      "source": [
        "df.isna().mean()"
      ]
    },
    {
      "cell_type": "code",
      "execution_count": null,
      "id": "1547e158-6945-457f-8ac2-595ed3878b48",
      "metadata": {
        "id": "1547e158-6945-457f-8ac2-595ed3878b48",
        "outputId": "68021fa0-e971-4392-c8a2-0e5788a8c224",
        "colab": {
          "base_uri": "https://localhost:8080/"
        }
      },
      "outputs": [
        {
          "output_type": "stream",
          "name": "stdout",
          "text": [
            "<class 'pandas.core.frame.DataFrame'>\n",
            "Int64Index: 158113 entries, 0 to 158112\n",
            "Data columns (total 5 columns):\n",
            " #   Column        Non-Null Count   Dtype \n",
            "---  ------        --------------   ----- \n",
            " 0   nm_item       158113 non-null  object\n",
            " 1   segmento      158113 non-null  object\n",
            " 2   categoria     158113 non-null  object\n",
            " 3   subcategoria  158113 non-null  object\n",
            " 4   nm_product    158113 non-null  object\n",
            "dtypes: object(5)\n",
            "memory usage: 7.2+ MB\n"
          ]
        }
      ],
      "source": [
        "df.info()"
      ]
    },
    {
      "cell_type": "markdown",
      "id": "21db391f-73ef-40e1-be97-12cddce39865",
      "metadata": {
        "id": "21db391f-73ef-40e1-be97-12cddce39865"
      },
      "source": [
        "# Olhando as diferentes classes de estratificação"
      ]
    },
    {
      "cell_type": "markdown",
      "id": "a06c22f3-1ab5-439e-bcb7-d9e77d9c6bd5",
      "metadata": {
        "id": "a06c22f3-1ab5-439e-bcb7-d9e77d9c6bd5"
      },
      "source": [
        "## 1 - Segmento"
      ]
    },
    {
      "cell_type": "code",
      "execution_count": null,
      "id": "8b0f9385-fb55-4324-b06d-82534119de03",
      "metadata": {
        "id": "8b0f9385-fb55-4324-b06d-82534119de03",
        "outputId": "a23644d8-8a05-4b5b-95f7-299f40684536",
        "colab": {
          "base_uri": "https://localhost:8080/"
        }
      },
      "outputs": [
        {
          "output_type": "execute_result",
          "data": {
            "text/plain": [
              "array(['1-BENS DE CONSUMO', '5-HEALTHCARE', '2-CASA E CONSTRUCAO',\n",
              "       '4-FASHION E ESPORTIVO', '3-ELETROMOVEIS', '6-PETROQUIMICA'],\n",
              "      dtype=object)"
            ]
          },
          "metadata": {},
          "execution_count": 8
        }
      ],
      "source": [
        "df.segmento.unique()"
      ]
    },
    {
      "cell_type": "code",
      "execution_count": null,
      "id": "a71917d7-c507-4a56-a6b5-42d2a0482dd8",
      "metadata": {
        "id": "a71917d7-c507-4a56-a6b5-42d2a0482dd8",
        "outputId": "a8a9c08c-9da0-4518-900c-6fa084e8f04d",
        "colab": {
          "base_uri": "https://localhost:8080/"
        }
      },
      "outputs": [
        {
          "output_type": "stream",
          "name": "stdout",
          "text": [
            "Existem 6 classes diferentes de segmento\n"
          ]
        }
      ],
      "source": [
        "print(f\"Existem {len(df.segmento.unique())} classes diferentes de segmento\")"
      ]
    },
    {
      "cell_type": "code",
      "execution_count": null,
      "id": "c564e1ac-fcc2-4108-af34-b06a6be774aa",
      "metadata": {
        "id": "c564e1ac-fcc2-4108-af34-b06a6be774aa",
        "outputId": "26341215-894c-4a8b-cbb5-151e238777c9",
        "colab": {
          "base_uri": "https://localhost:8080/",
          "height": 237
        }
      },
      "outputs": [
        {
          "output_type": "execute_result",
          "data": {
            "text/plain": [
              "                segmento   count      %\n",
              "0      1-BENS DE CONSUMO  152526  96.47\n",
              "1    2-CASA E CONSTRUCAO    1992   1.26\n",
              "2           5-HEALTHCARE    1789   1.13\n",
              "3  4-FASHION E ESPORTIVO    1259   0.80\n",
              "4         3-ELETROMOVEIS     361   0.23\n",
              "5         6-PETROQUIMICA     186   0.12"
            ],
            "text/html": [
              "\n",
              "  <div id=\"df-1f8f9c53-bafd-4a1c-bf38-7ab9ee7d7a1d\">\n",
              "    <div class=\"colab-df-container\">\n",
              "      <div>\n",
              "<style scoped>\n",
              "    .dataframe tbody tr th:only-of-type {\n",
              "        vertical-align: middle;\n",
              "    }\n",
              "\n",
              "    .dataframe tbody tr th {\n",
              "        vertical-align: top;\n",
              "    }\n",
              "\n",
              "    .dataframe thead th {\n",
              "        text-align: right;\n",
              "    }\n",
              "</style>\n",
              "<table border=\"1\" class=\"dataframe\">\n",
              "  <thead>\n",
              "    <tr style=\"text-align: right;\">\n",
              "      <th></th>\n",
              "      <th>segmento</th>\n",
              "      <th>count</th>\n",
              "      <th>%</th>\n",
              "    </tr>\n",
              "  </thead>\n",
              "  <tbody>\n",
              "    <tr>\n",
              "      <th>0</th>\n",
              "      <td>1-BENS DE CONSUMO</td>\n",
              "      <td>152526</td>\n",
              "      <td>96.47</td>\n",
              "    </tr>\n",
              "    <tr>\n",
              "      <th>1</th>\n",
              "      <td>2-CASA E CONSTRUCAO</td>\n",
              "      <td>1992</td>\n",
              "      <td>1.26</td>\n",
              "    </tr>\n",
              "    <tr>\n",
              "      <th>2</th>\n",
              "      <td>5-HEALTHCARE</td>\n",
              "      <td>1789</td>\n",
              "      <td>1.13</td>\n",
              "    </tr>\n",
              "    <tr>\n",
              "      <th>3</th>\n",
              "      <td>4-FASHION E ESPORTIVO</td>\n",
              "      <td>1259</td>\n",
              "      <td>0.80</td>\n",
              "    </tr>\n",
              "    <tr>\n",
              "      <th>4</th>\n",
              "      <td>3-ELETROMOVEIS</td>\n",
              "      <td>361</td>\n",
              "      <td>0.23</td>\n",
              "    </tr>\n",
              "    <tr>\n",
              "      <th>5</th>\n",
              "      <td>6-PETROQUIMICA</td>\n",
              "      <td>186</td>\n",
              "      <td>0.12</td>\n",
              "    </tr>\n",
              "  </tbody>\n",
              "</table>\n",
              "</div>\n",
              "      <button class=\"colab-df-convert\" onclick=\"convertToInteractive('df-1f8f9c53-bafd-4a1c-bf38-7ab9ee7d7a1d')\"\n",
              "              title=\"Convert this dataframe to an interactive table.\"\n",
              "              style=\"display:none;\">\n",
              "        \n",
              "  <svg xmlns=\"http://www.w3.org/2000/svg\" height=\"24px\"viewBox=\"0 0 24 24\"\n",
              "       width=\"24px\">\n",
              "    <path d=\"M0 0h24v24H0V0z\" fill=\"none\"/>\n",
              "    <path d=\"M18.56 5.44l.94 2.06.94-2.06 2.06-.94-2.06-.94-.94-2.06-.94 2.06-2.06.94zm-11 1L8.5 8.5l.94-2.06 2.06-.94-2.06-.94L8.5 2.5l-.94 2.06-2.06.94zm10 10l.94 2.06.94-2.06 2.06-.94-2.06-.94-.94-2.06-.94 2.06-2.06.94z\"/><path d=\"M17.41 7.96l-1.37-1.37c-.4-.4-.92-.59-1.43-.59-.52 0-1.04.2-1.43.59L10.3 9.45l-7.72 7.72c-.78.78-.78 2.05 0 2.83L4 21.41c.39.39.9.59 1.41.59.51 0 1.02-.2 1.41-.59l7.78-7.78 2.81-2.81c.8-.78.8-2.07 0-2.86zM5.41 20L4 18.59l7.72-7.72 1.47 1.35L5.41 20z\"/>\n",
              "  </svg>\n",
              "      </button>\n",
              "      \n",
              "  <style>\n",
              "    .colab-df-container {\n",
              "      display:flex;\n",
              "      flex-wrap:wrap;\n",
              "      gap: 12px;\n",
              "    }\n",
              "\n",
              "    .colab-df-convert {\n",
              "      background-color: #E8F0FE;\n",
              "      border: none;\n",
              "      border-radius: 50%;\n",
              "      cursor: pointer;\n",
              "      display: none;\n",
              "      fill: #1967D2;\n",
              "      height: 32px;\n",
              "      padding: 0 0 0 0;\n",
              "      width: 32px;\n",
              "    }\n",
              "\n",
              "    .colab-df-convert:hover {\n",
              "      background-color: #E2EBFA;\n",
              "      box-shadow: 0px 1px 2px rgba(60, 64, 67, 0.3), 0px 1px 3px 1px rgba(60, 64, 67, 0.15);\n",
              "      fill: #174EA6;\n",
              "    }\n",
              "\n",
              "    [theme=dark] .colab-df-convert {\n",
              "      background-color: #3B4455;\n",
              "      fill: #D2E3FC;\n",
              "    }\n",
              "\n",
              "    [theme=dark] .colab-df-convert:hover {\n",
              "      background-color: #434B5C;\n",
              "      box-shadow: 0px 1px 3px 1px rgba(0, 0, 0, 0.15);\n",
              "      filter: drop-shadow(0px 1px 2px rgba(0, 0, 0, 0.3));\n",
              "      fill: #FFFFFF;\n",
              "    }\n",
              "  </style>\n",
              "\n",
              "      <script>\n",
              "        const buttonEl =\n",
              "          document.querySelector('#df-1f8f9c53-bafd-4a1c-bf38-7ab9ee7d7a1d button.colab-df-convert');\n",
              "        buttonEl.style.display =\n",
              "          google.colab.kernel.accessAllowed ? 'block' : 'none';\n",
              "\n",
              "        async function convertToInteractive(key) {\n",
              "          const element = document.querySelector('#df-1f8f9c53-bafd-4a1c-bf38-7ab9ee7d7a1d');\n",
              "          const dataTable =\n",
              "            await google.colab.kernel.invokeFunction('convertToInteractive',\n",
              "                                                     [key], {});\n",
              "          if (!dataTable) return;\n",
              "\n",
              "          const docLinkHtml = 'Like what you see? Visit the ' +\n",
              "            '<a target=\"_blank\" href=https://colab.research.google.com/notebooks/data_table.ipynb>data table notebook</a>'\n",
              "            + ' to learn more about interactive tables.';\n",
              "          element.innerHTML = '';\n",
              "          dataTable['output_type'] = 'display_data';\n",
              "          await google.colab.output.renderOutput(dataTable, element);\n",
              "          const docLink = document.createElement('div');\n",
              "          docLink.innerHTML = docLinkHtml;\n",
              "          element.appendChild(docLink);\n",
              "        }\n",
              "      </script>\n",
              "    </div>\n",
              "  </div>\n",
              "  "
            ]
          },
          "metadata": {},
          "execution_count": 10
        }
      ],
      "source": [
        "segmento = df.groupby('segmento').size().sort_values(ascending = False)\n",
        "segmento = segmento.reset_index()\n",
        "segmento.columns = ['segmento', 'count']\n",
        "segmento['%'] = (100 * segmento['count'] / segmento['count'].sum()).round(2)\n",
        "segmento"
      ]
    },
    {
      "cell_type": "code",
      "execution_count": null,
      "id": "7d5aa0ec-64b2-4f20-b576-b314b88617df",
      "metadata": {
        "id": "7d5aa0ec-64b2-4f20-b576-b314b88617df",
        "outputId": "d8a60119-ee83-4858-fad8-ec7642f68999",
        "colab": {
          "base_uri": "https://localhost:8080/",
          "height": 509
        }
      },
      "outputs": [
        {
          "output_type": "display_data",
          "data": {
            "text/plain": [
              "<Figure size 1152x576 with 1 Axes>"
            ],
            "image/png": "[encoded data removed]"
          },
          "metadata": {
            "needs_background": "light"
          }
        }
      ],
      "source": [
        "sns.barplot(data = segmento.head(15), y = 'segmento', x = '%')\n",
        "plt.xticks(rotation=90);"
      ]
    },
    {
      "cell_type": "markdown",
      "id": "f4d4d5dd-1785-4bdc-8716-264a0c45572c",
      "metadata": {
        "id": "f4d4d5dd-1785-4bdc-8716-264a0c45572c"
      },
      "source": [
        "## 2 - Categoria"
      ]
    },
    {
      "cell_type": "code",
      "execution_count": null,
      "id": "b8b8ab5f-a65e-4244-b248-2fac297b2665",
      "metadata": {
        "id": "b8b8ab5f-a65e-4244-b248-2fac297b2665",
        "outputId": "d289cd44-6303-4c99-dede-f9395b157885",
        "colab": {
          "base_uri": "https://localhost:8080/"
        }
      },
      "outputs": [
        {
          "output_type": "stream",
          "name": "stdout",
          "text": [
            "Existem 70 classes diferentes de categoria\n"
          ]
        }
      ],
      "source": [
        "print(f\"Existem {len(df.categoria.unique())} classes diferentes de categoria\")"
      ]
    },
    {
      "cell_type": "code",
      "execution_count": null,
      "id": "9aedc0e6-8eeb-43fe-b22f-f75863d72822",
      "metadata": {
        "id": "9aedc0e6-8eeb-43fe-b22f-f75863d72822",
        "outputId": "236cfda7-746e-4d5c-bea6-273eb63210d5",
        "colab": {
          "base_uri": "https://localhost:8080/"
        }
      },
      "outputs": [
        {
          "output_type": "execute_result",
          "data": {
            "text/plain": [
              "categoria\n",
              "6-MERCEARIA                  48320\n",
              "32-PRODUTOS DE LIMPEZA       13834\n",
              "3-FRIOS E LATICINIOS         13299\n",
              "31-HIGIENE PESSOAL           12158\n",
              "8-PREPARADOS E CONGELADOS     7018\n",
              "dtype: int64"
            ]
          },
          "metadata": {},
          "execution_count": 13
        }
      ],
      "source": [
        "df[df['segmento'] == '1-BENS DE CONSUMO'].groupby('categoria').size().sort_values(ascending = False)[:5]"
      ]
    },
    {
      "cell_type": "code",
      "execution_count": null,
      "id": "6a6438d5-05b1-4d3a-bc4b-fec23e5242fb",
      "metadata": {
        "id": "6a6438d5-05b1-4d3a-bc4b-fec23e5242fb",
        "outputId": "39a91f0d-4752-4145-df46-8836f32d79ca",
        "colab": {
          "base_uri": "https://localhost:8080/",
          "height": 363
        }
      },
      "outputs": [
        {
          "output_type": "execute_result",
          "data": {
            "text/plain": [
              "                   categoria  count      %\n",
              "0                6-MERCEARIA  48320  31.68\n",
              "1     32-PRODUTOS DE LIMPEZA  13834   9.07\n",
              "2       3-FRIOS E LATICINIOS  13299   8.72\n",
              "3         31-HIGIENE PESSOAL  12158   7.97\n",
              "4  8-PREPARADOS E CONGELADOS   7018   4.60\n",
              "5         5-HORTIFRUTI (FLV)   6353   4.17\n",
              "6       1-ACOUGUE E PEIXARIA   6328   4.15\n",
              "7    7-PADARIA E CONFEITARIA   5716   3.75\n",
              "8       24-SUCOS E REFRESCOS   5080   3.33\n",
              "9     18-BEBIDAS ALCOOLICAS    4626   3.03"
            ],
            "text/html": [
              "\n",
              "  <div id=\"df-087bc2e7-0999-4e79-9406-34a325d6d78a\">\n",
              "    <div class=\"colab-df-container\">\n",
              "      <div>\n",
              "<style scoped>\n",
              "    .dataframe tbody tr th:only-of-type {\n",
              "        vertical-align: middle;\n",
              "    }\n",
              "\n",
              "    .dataframe tbody tr th {\n",
              "        vertical-align: top;\n",
              "    }\n",
              "\n",
              "    .dataframe thead th {\n",
              "        text-align: right;\n",
              "    }\n",
              "</style>\n",
              "<table border=\"1\" class=\"dataframe\">\n",
              "  <thead>\n",
              "    <tr style=\"text-align: right;\">\n",
              "      <th></th>\n",
              "      <th>categoria</th>\n",
              "      <th>count</th>\n",
              "      <th>%</th>\n",
              "    </tr>\n",
              "  </thead>\n",
              "  <tbody>\n",
              "    <tr>\n",
              "      <th>0</th>\n",
              "      <td>6-MERCEARIA</td>\n",
              "      <td>48320</td>\n",
              "      <td>31.68</td>\n",
              "    </tr>\n",
              "    <tr>\n",
              "      <th>1</th>\n",
              "      <td>32-PRODUTOS DE LIMPEZA</td>\n",
              "      <td>13834</td>\n",
              "      <td>9.07</td>\n",
              "    </tr>\n",
              "    <tr>\n",
              "      <th>2</th>\n",
              "      <td>3-FRIOS E LATICINIOS</td>\n",
              "      <td>13299</td>\n",
              "      <td>8.72</td>\n",
              "    </tr>\n",
              "    <tr>\n",
              "      <th>3</th>\n",
              "      <td>31-HIGIENE PESSOAL</td>\n",
              "      <td>12158</td>\n",
              "      <td>7.97</td>\n",
              "    </tr>\n",
              "    <tr>\n",
              "      <th>4</th>\n",
              "      <td>8-PREPARADOS E CONGELADOS</td>\n",
              "      <td>7018</td>\n",
              "      <td>4.60</td>\n",
              "    </tr>\n",
              "    <tr>\n",
              "      <th>5</th>\n",
              "      <td>5-HORTIFRUTI (FLV)</td>\n",
              "      <td>6353</td>\n",
              "      <td>4.17</td>\n",
              "    </tr>\n",
              "    <tr>\n",
              "      <th>6</th>\n",
              "      <td>1-ACOUGUE E PEIXARIA</td>\n",
              "      <td>6328</td>\n",
              "      <td>4.15</td>\n",
              "    </tr>\n",
              "    <tr>\n",
              "      <th>7</th>\n",
              "      <td>7-PADARIA E CONFEITARIA</td>\n",
              "      <td>5716</td>\n",
              "      <td>3.75</td>\n",
              "    </tr>\n",
              "    <tr>\n",
              "      <th>8</th>\n",
              "      <td>24-SUCOS E REFRESCOS</td>\n",
              "      <td>5080</td>\n",
              "      <td>3.33</td>\n",
              "    </tr>\n",
              "    <tr>\n",
              "      <th>9</th>\n",
              "      <td>18-BEBIDAS ALCOOLICAS</td>\n",
              "      <td>4626</td>\n",
              "      <td>3.03</td>\n",
              "    </tr>\n",
              "  </tbody>\n",
              "</table>\n",
              "</div>\n",
              "      <button class=\"colab-df-convert\" onclick=\"convertToInteractive('df-087bc2e7-0999-4e79-9406-34a325d6d78a')\"\n",
              "              title=\"Convert this dataframe to an interactive table.\"\n",
              "              style=\"display:none;\">\n",
              "        \n",
              "  <svg xmlns=\"http://www.w3.org/2000/svg\" height=\"24px\"viewBox=\"0 0 24 24\"\n",
              "       width=\"24px\">\n",
              "    <path d=\"M0 0h24v24H0V0z\" fill=\"none\"/>\n",
              "    <path d=\"M18.56 5.44l.94 2.06.94-2.06 2.06-.94-2.06-.94-.94-2.06-.94 2.06-2.06.94zm-11 1L8.5 8.5l.94-2.06 2.06-.94-2.06-.94L8.5 2.5l-.94 2.06-2.06.94zm10 10l.94 2.06.94-2.06 2.06-.94-2.06-.94-.94-2.06-.94 2.06-2.06.94z\"/><path d=\"M17.41 7.96l-1.37-1.37c-.4-.4-.92-.59-1.43-.59-.52 0-1.04.2-1.43.59L10.3 9.45l-7.72 7.72c-.78.78-.78 2.05 0 2.83L4 21.41c.39.39.9.59 1.41.59.51 0 1.02-.2 1.41-.59l7.78-7.78 2.81-2.81c.8-.78.8-2.07 0-2.86zM5.41 20L4 18.59l7.72-7.72 1.47 1.35L5.41 20z\"/>\n",
              "  </svg>\n",
              "      </button>\n",
              "      \n",
              "  <style>\n",
              "    .colab-df-container {\n",
              "      display:flex;\n",
              "      flex-wrap:wrap;\n",
              "      gap: 12px;\n",
              "    }\n",
              "\n",
              "    .colab-df-convert {\n",
              "      background-color: #E8F0FE;\n",
              "      border: none;\n",
              "      border-radius: 50%;\n",
              "      cursor: pointer;\n",
              "      display: none;\n",
              "      fill: #1967D2;\n",
              "      height: 32px;\n",
              "      padding: 0 0 0 0;\n",
              "      width: 32px;\n",
              "    }\n",
              "\n",
              "    .colab-df-convert:hover {\n",
              "      background-color: #E2EBFA;\n",
              "      box-shadow: 0px 1px 2px rgba(60, 64, 67, 0.3), 0px 1px 3px 1px rgba(60, 64, 67, 0.15);\n",
              "      fill: #174EA6;\n",
              "    }\n",
              "\n",
              "    [theme=dark] .colab-df-convert {\n",
              "      background-color: #3B4455;\n",
              "      fill: #D2E3FC;\n",
              "    }\n",
              "\n",
              "    [theme=dark] .colab-df-convert:hover {\n",
              "      background-color: #434B5C;\n",
              "      box-shadow: 0px 1px 3px 1px rgba(0, 0, 0, 0.15);\n",
              "      filter: drop-shadow(0px 1px 2px rgba(0, 0, 0, 0.3));\n",
              "      fill: #FFFFFF;\n",
              "    }\n",
              "  </style>\n",
              "\n",
              "      <script>\n",
              "        const buttonEl =\n",
              "          document.querySelector('#df-087bc2e7-0999-4e79-9406-34a325d6d78a button.colab-df-convert');\n",
              "        buttonEl.style.display =\n",
              "          google.colab.kernel.accessAllowed ? 'block' : 'none';\n",
              "\n",
              "        async function convertToInteractive(key) {\n",
              "          const element = document.querySelector('#df-087bc2e7-0999-4e79-9406-34a325d6d78a');\n",
              "          const dataTable =\n",
              "            await google.colab.kernel.invokeFunction('convertToInteractive',\n",
              "                                                     [key], {});\n",
              "          if (!dataTable) return;\n",
              "\n",
              "          const docLinkHtml = 'Like what you see? Visit the ' +\n",
              "            '<a target=\"_blank\" href=https://colab.research.google.com/notebooks/data_table.ipynb>data table notebook</a>'\n",
              "            + ' to learn more about interactive tables.';\n",
              "          element.innerHTML = '';\n",
              "          dataTable['output_type'] = 'display_data';\n",
              "          await google.colab.output.renderOutput(dataTable, element);\n",
              "          const docLink = document.createElement('div');\n",
              "          docLink.innerHTML = docLinkHtml;\n",
              "          element.appendChild(docLink);\n",
              "        }\n",
              "      </script>\n",
              "    </div>\n",
              "  </div>\n",
              "  "
            ]
          },
          "metadata": {},
          "execution_count": 14
        }
      ],
      "source": [
        "bens = pd.DataFrame(df[df['segmento'] == '1-BENS DE CONSUMO'].groupby('categoria').size().sort_values(ascending = False))\n",
        "bens = bens.reset_index()\n",
        "bens.columns = ['categoria', 'count']\n",
        "bens['%'] = (100 * bens['count'] / bens['count'].sum()).round(2)\n",
        "bens.head(10)"
      ]
    },
    {
      "cell_type": "code",
      "execution_count": null,
      "id": "39825892-58ce-49ec-aa93-2c6bec712adc",
      "metadata": {
        "id": "39825892-58ce-49ec-aa93-2c6bec712adc",
        "outputId": "f01d25d2-b528-4817-f85a-e9b197f27610",
        "colab": {
          "base_uri": "https://localhost:8080/",
          "height": 503
        }
      },
      "outputs": [
        {
          "output_type": "display_data",
          "data": {
            "text/plain": [
              "<Figure size 1152x576 with 1 Axes>"
            ],
            "image/png": "[encoded data removed]"
          },
          "metadata": {
            "needs_background": "light"
          }
        }
      ],
      "source": [
        "sns.barplot(data = bens.head(15), y = 'categoria', x = '%')\n",
        "plt.xticks(rotation=90);"
      ]
    },
    {
      "cell_type": "code",
      "execution_count": null,
      "id": "47962bf5-407f-42c9-a8b9-c219978117d3",
      "metadata": {
        "id": "47962bf5-407f-42c9-a8b9-c219978117d3",
        "outputId": "af1c77a7-32d7-4e6f-fd14-4d6f9be226d0",
        "colab": {
          "base_uri": "https://localhost:8080/"
        }
      },
      "outputs": [
        {
          "output_type": "execute_result",
          "data": {
            "text/plain": [
              "categoria\n",
              "72-OUTROS FARMA                   1529\n",
              "67-ENFERMAGEM E INSTRUMENTACAO     233\n",
              "68-HOMECARE                         11\n",
              "76-CLINICAS E LABORATORIOS           5\n",
              "73-SAUDE ANIMAL                      4\n",
              "69-HOSPITALARES E CLINICOS           3\n",
              "75-OUTROS HEALTHCARE                 2\n",
              "71-MEDICAMENTOS                      1\n",
              "74-SUPLEMENTOS                       1\n",
              "dtype: int64"
            ]
          },
          "metadata": {},
          "execution_count": 16
        }
      ],
      "source": [
        "df[df['segmento'] == '5-HEALTHCARE'].groupby('categoria').size().sort_values(ascending = False)"
      ]
    },
    {
      "cell_type": "code",
      "execution_count": null,
      "id": "4897c8c1-97fd-4d63-a7c5-d97ca968da3d",
      "metadata": {
        "id": "4897c8c1-97fd-4d63-a7c5-d97ca968da3d",
        "outputId": "747c1f01-a9ab-4bc3-e38d-a94b3abe709b",
        "colab": {
          "base_uri": "https://localhost:8080/"
        }
      },
      "outputs": [
        {
          "output_type": "execute_result",
          "data": {
            "text/plain": [
              "categoria\n",
              "39-DIVERSOS DECORACAO E JARDIM            924\n",
              "38-CAMAMESA E BANHO                       464\n",
              "40-ILUMINACAO                             181\n",
              "47-BANHEIROCOZINHA E LAVANDERIA           125\n",
              "41-TAPETES E CORTINAS                      56\n",
              "46-ACABAMENTO                              53\n",
              "44-FERRAGENS E FERRAMENTAS                 52\n",
              "49-ELETRICA                                47\n",
              "36-AREA DE LAZER                           30\n",
              "52-PINTURA E VEDACAO                       21\n",
              "51-HIDRAULICA E GAS                        15\n",
              "37-ARTIGOS DE DECORACAO                    11\n",
              "45-DIVERSOS HOME CENTER                     6\n",
              "43-EQUIPAMENTOS                             4\n",
              "42-DIVERSOS FERRAMENTAS E EQUIPAMENTOS      3\n",
              "dtype: int64"
            ]
          },
          "metadata": {},
          "execution_count": 17
        }
      ],
      "source": [
        "df[df['segmento'] == '2-CASA E CONSTRUCAO'].groupby('categoria').size().sort_values(ascending = False)"
      ]
    },
    {
      "cell_type": "code",
      "execution_count": null,
      "id": "1e7fa0ca-c3c3-4c39-8c75-84c33daf8e82",
      "metadata": {
        "id": "1e7fa0ca-c3c3-4c39-8c75-84c33daf8e82"
      },
      "outputs": [],
      "source": []
    },
    {
      "cell_type": "markdown",
      "id": "8701ecdd-2363-4b22-bd29-c3eeb3f5e439",
      "metadata": {
        "id": "8701ecdd-2363-4b22-bd29-c3eeb3f5e439"
      },
      "source": [
        "## 3 - Subcategoria"
      ]
    },
    {
      "cell_type": "code",
      "execution_count": null,
      "id": "d7a5f9b7-2852-4c0f-ad78-81abb4efa659",
      "metadata": {
        "id": "d7a5f9b7-2852-4c0f-ad78-81abb4efa659",
        "outputId": "44e8144e-b29f-4104-8484-127cb3da11c6"
      },
      "outputs": [
        {
          "name": "stdout",
          "output_type": "stream",
          "text": [
            "Existem 153 classes diferentes de subcategoria\n"
          ]
        }
      ],
      "source": [
        "print(f\"Existem {len(df.subcategoria.unique())} classes diferentes de subcategoria\")"
      ]
    },
    {
      "cell_type": "code",
      "execution_count": null,
      "id": "cad2a3f4-304c-41d6-b7e7-424e79344521",
      "metadata": {
        "id": "cad2a3f4-304c-41d6-b7e7-424e79344521"
      },
      "outputs": [],
      "source": []
    }
  ],
  "metadata": {
    "kernelspec": {
      "display_name": "Python 3 (ipykernel)",
      "language": "python",
      "name": "python3"
    },
    "language_info": {
      "codemirror_mode": {
        "name": "ipython",
        "version": 3
      },
      "file_extension": ".py",
      "mimetype": "text/x-python",
      "name": "python",
      "nbconvert_exporter": "python",
      "pygments_lexer": "ipython3",
      "version": "3.9.12"
    },
    "colab": {
      "provenance": [],
      "collapsed_sections": [],
      "include_colab_link": true
    }
  },
  "nbformat": 4,
  "nbformat_minor": 5
}